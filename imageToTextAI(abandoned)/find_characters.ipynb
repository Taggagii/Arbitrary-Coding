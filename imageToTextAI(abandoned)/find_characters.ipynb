{
 "cells": [
  {
   "cell_type": "code",
   "execution_count": null,
   "metadata": {},
   "outputs": [],
   "source": [
    "from imutils.object_detection import non_max_suppression\n",
    "import matplotlib.pyplot as plt\n",
    "import numpy as np\n",
    "import argparse\n",
    "import time\n",
    "import cv2"
   ]
  },
  {
   "cell_type": "code",
   "execution_count": null,
   "metadata": {},
   "outputs": [],
   "source": [
    "\n",
    "image = cv2.imread(\"training_images/a8d6142c-dd7e-4863-9e54-50a1909c44f1.png\")\n",
    "# image = cv2.imread(\"training_images/a8d6142c-dd7e-4863-9e54-50a1909c44f1.png\")\n",
    "\n",
    "# image height and width should be multiple of 32\n",
    "imgWidth=320\n",
    "imgHeight=320\n",
    "\n",
    "image = cv2.cvtColor(image, cv2.COLOR_BGR2GRAY)\n",
    "(thresh, image) = cv2.threshold(image, 150, 255, cv2.THRESH_BINARY)\n",
    "image = cv2.cvtColor(image, cv2.COLOR_GRAY2BGR)\n",
    "\n",
    "orig = image.copy()\n",
    "(H, W) = image.shape[:2]\n",
    "(newW, newH) = (imgWidth, imgHeight)\n",
    "\n",
    "rW = W / float(newW)\n",
    "rH = H / float(newH)\n",
    "image = cv2.resize(image, (newW, newH))\n",
    "\n",
    "(H, W) = image.shape[:2]\n",
    "plt.imshow(image)\n",
    "plt.show()"
   ]
  },
  {
   "cell_type": "code",
   "execution_count": null,
   "metadata": {},
   "outputs": [],
   "source": [
    "net = cv2.dnn.readNet(\"frozen_east_text_detection.pb\")"
   ]
  },
  {
   "cell_type": "code",
   "execution_count": null,
   "metadata": {},
   "outputs": [],
   "source": [
    "blob = cv2.dnn.blobFromImage(image, 1.0, (W, H),\n",
    "                             (123.68, 116.78, 103.94), swapRB=True, crop=False)"
   ]
  },
  {
   "cell_type": "code",
   "execution_count": null,
   "metadata": {},
   "outputs": [],
   "source": [
    "outputLayers = []\n",
    "outputLayers.append(\"feature_fusion/Conv_7/Sigmoid\")\n",
    "outputLayers.append(\"feature_fusion/concat_3\")"
   ]
  },
  {
   "cell_type": "code",
   "execution_count": 904,
   "metadata": {},
   "outputs": [],
   "source": [
    "net.setInput(blob)\n",
    "output = net.forward(outputLayers)\n",
    "scores = output[0]\n",
    "geometry = output[1]"
   ]
  },
  {
   "cell_type": "code",
   "execution_count": null,
   "metadata": {},
   "outputs": [],
   "source": [
    "(numRows, numCols) = scores.shape[2:4]\n",
    "rects = []\n",
    "confidences = []\n",
    "\n",
    "for y in range(0, numRows):\n",
    "    scoresData = scores[0, 0, y]\n",
    "    xData0 = geometry[0, 0, y]\n",
    "    xData1 = geometry[0, 1, y]\n",
    "    xData2 = geometry[0, 2, y]\n",
    "    xData3 = geometry[0, 3, y]\n",
    "    anglesData = geometry[0, 4, y]\n",
    "\n",
    "    for x in range(0, numCols):\n",
    "        # if our score does not have sufficient probability, ignore it\n",
    "        if scoresData[x] < 0.5:\n",
    "            continue\n",
    "\n",
    "        # compute the offset factor as our resulting feature maps will\n",
    "        # be 4x smaller than the input image\n",
    "        (offsetX, offsetY) = (x * 4.0, y * 4.0)\n",
    "\n",
    "        # extract the rotation angle for the prediction and then\n",
    "        # compute the sin and cosine\n",
    "        angle = anglesData[x]\n",
    "        cos = np.cos(angle)\n",
    "        sin = np.sin(angle)\n",
    "\n",
    "        # use the geometry volume to derive the width and height of\n",
    "        # the bounding box\n",
    "        h = xData0[x] + xData2[x]\n",
    "        w = xData1[x] + xData3[x]\n",
    "\n",
    "        # compute both the starting and ending (x, y)-coordinates for\n",
    "        # the text prediction bounding box\n",
    "        endX = int(offsetX + (cos * xData1[x]) + (sin * xData2[x]))\n",
    "        endY = int(offsetY - (sin * xData1[x]) + (cos * xData2[x]))\n",
    "        startX = int(endX - w)\n",
    "        startY = int(endY - h)\n",
    "\n",
    "        # add the bounding box coordinates and probability score to\n",
    "        # our respective lists\n",
    "        rects.append((startX, startY, endX, endY))\n",
    "        confidences.append(scoresData[x])"
   ]
  },
  {
   "cell_type": "code",
   "execution_count": null,
   "metadata": {},
   "outputs": [],
   "source": [
    "boxes = non_max_suppression(np.array(rects), probs=confidences)"
   ]
  },
  {
   "cell_type": "code",
   "execution_count": null,
   "metadata": {},
   "outputs": [],
   "source": [
    "height = 135\n",
    "width = 410"
   ]
  },
  {
   "cell_type": "code",
   "execution_count": null,
   "metadata": {},
   "outputs": [],
   "source": [
    "# boxes = boxes[boxes[:, 3].argsort()]\n",
    "# diffs = [abs(boxes[i][3] - boxes[i - 1][3]) for i in range(1, len(boxes))]\n",
    "# separation_locations = [i[0] for i in enumerate(diffs) if i[1] > 30]\n",
    "# lines = [boxes[:separation_locations[0] + 1]] + [boxes[separation_locations[i - 1] + 1 : separation_locations[i] + 1] for i in range(1, len(separation_locations))] + [boxes[separation_locations[-1] + 1:]]\n",
    "# lines = [line[line[:, 0].argsort()] for line in lines]"
   ]
  },
  {
   "cell_type": "code",
   "execution_count": null,
   "metadata": {},
   "outputs": [],
   "source": [
    "# loop over the bounding boxes\n",
    "lines = [1]\n",
    "for line_boxes in lines:\n",
    "    for (startX, startY, endX, endY) in boxes:\n",
    "        # scale the bounding box  based on the respective\n",
    "        # ratioscoordinates\n",
    "        startX = int(startX * rW)\n",
    "        startY = int(startY * rH)\n",
    "        endX = int(endX * rW)\n",
    "        endY = int(endY * rH)\n",
    "\n",
    "        # draw the bounding box on the image\n",
    "        # cv2.rectangle(orig, (startX, startY), (endX, endY), (0, 255, 0), 2)\n",
    "\n",
    "        roi = orig[startY:endY, startX:endX]\n",
    "        roi = cv2.resize(roi, (width, height))\n",
    "        plt.imshow(roi)\n",
    "        plt.show()\n"
   ]
  },
  {
   "cell_type": "code",
   "execution_count": null,
   "metadata": {},
   "outputs": [],
   "source": [
    "plt.imshow(orig)\n",
    "plt.show()"
   ]
  }
 ],
 "metadata": {
  "kernelspec": {
   "display_name": "tfod",
   "language": "python",
   "name": "tfod"
  },
  "language_info": {
   "codemirror_mode": {
    "name": "ipython",
    "version": 3
   },
   "file_extension": ".py",
   "mimetype": "text/x-python",
   "name": "python",
   "nbconvert_exporter": "python",
   "pygments_lexer": "ipython3",
   "version": "3.9.5"
  },
  "orig_nbformat": 4
 },
 "nbformat": 4,
 "nbformat_minor": 2
}
