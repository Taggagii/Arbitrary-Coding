{
 "cells": [
  {
   "cell_type": "code",
   "execution_count": 2,
   "id": "3248d464-c7ca-4bca-bf63-b61966348ca4",
   "metadata": {},
   "outputs": [],
   "source": [
    "from PIL import Image, ImageDraw, ImageFont\n",
    "import random\n",
    "import uuid"
   ]
  },
  {
   "cell_type": "code",
   "execution_count": 3,
   "metadata": {},
   "outputs": [],
   "source": [
    "wordlist = open(\"wordlist.txt\", \"r\").read().split()"
   ]
  },
  {
   "cell_type": "code",
   "execution_count": 4,
   "id": "8378f96e",
   "metadata": {},
   "outputs": [],
   "source": [
    "def generateRandomWordPicture():\n",
    "    height = 135\n",
    "    width = 410\n",
    "    img = Image.new(\"RGB\", (width, height), color = \"white\")\n",
    "    font_size = 25\n",
    "\n",
    "\n",
    "    draw = ImageDraw.Draw(img)\n",
    "    font = ImageFont.truetype(\"arial.ttf\", font_size)\n",
    "\n",
    "    written_text = \"\"\n",
    "    cur_line = \"\"\n",
    "\n",
    "    cur_h = 0\n",
    "    main_height = 0\n",
    "    top_height = 0\n",
    "    word = random.choice(wordlist)\n",
    "    while main_height < img.height:\n",
    "        temp_line = cur_line + bool(cur_line) * \" \" + word\n",
    "        _, _, w, h = draw.textbbox((0, 0), temp_line, font)\n",
    "        if (w >= img.width):\n",
    "            draw.text((5, top_height / 2), cur_line, font=font, fill=(0, 0, 0))\n",
    "            written_text += bool(written_text) * \" \" + cur_line\n",
    "            cur_line = \"\"\n",
    "            top_height += cur_h + font_size\n",
    "            main_height += cur_h\n",
    "            continue\n",
    "        cur_line = temp_line\n",
    "        cur_h = h\n",
    "        \n",
    "        word = random.choice(wordlist)\n",
    "    \n",
    "    unique_name = str(uuid.uuid4())\n",
    "\n",
    "    img.save(f\"training_images/{unique_name}.png\")\n",
    "    with open(\"word_information.txt\", \"a+\") as file:\n",
    "        file.write(f\"{unique_name}: {written_text}\\n\")"
   ]
  },
  {
   "cell_type": "code",
   "execution_count": 5,
   "id": "a68f63ed",
   "metadata": {},
   "outputs": [],
   "source": [
    "for i in range(1):\n",
    "    generateRandomWordPicture()"
   ]
  }
 ],
 "metadata": {
  "kernelspec": {
   "display_name": "tfod",
   "language": "python",
   "name": "tfod"
  },
  "language_info": {
   "codemirror_mode": {
    "name": "ipython",
    "version": 3
   },
   "file_extension": ".py",
   "mimetype": "text/x-python",
   "name": "python",
   "nbconvert_exporter": "python",
   "pygments_lexer": "ipython3",
   "version": "3.9.5"
  }
 },
 "nbformat": 4,
 "nbformat_minor": 5
}
